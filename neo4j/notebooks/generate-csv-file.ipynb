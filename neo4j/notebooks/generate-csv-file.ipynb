{
 "cells": [
  {
   "cell_type": "code",
   "execution_count": 1,
   "id": "tutorial-looking",
   "metadata": {},
   "outputs": [
    {
     "name": "stdout",
     "output_type": "stream",
     "text": [
      "(6389, 8)\n",
      "Index(['Unnamed: 0', 'Issue Id', 'Assignee_email', 'Reporter_email',\n",
      "       'Creation Date', 'Close Date', 'Estimated Time', 'Actual Time'],\n",
      "      dtype='object')\n"
     ]
    }
   ],
   "source": [
    "#Data Pipeline : Extract\n",
    "import pandas as pd\n",
    "df1 = pd.read_csv('updated_issues.csv')\n",
    "print(df1.shape)\n",
    "print(df1.columns)"
   ]
  },
  {
   "cell_type": "code",
   "execution_count": 3,
   "id": "brilliant-airline",
   "metadata": {},
   "outputs": [
    {
     "name": "stdout",
     "output_type": "stream",
     "text": [
      "Duplicate rows = 0\n",
      "################\n",
      "Missing data\n",
      "Issue Id            0\n",
      "Assignee_email      0\n",
      "Reporter_email      0\n",
      "Creation Date       0\n",
      "Close Date        749\n",
      "Estimated Time      0\n",
      "Actual Time         0\n",
      "dtype: int64\n"
     ]
    }
   ],
   "source": [
    "#Data Pipeline : Transform\n",
    "import matplotlib.pyplot as plt\n",
    "\n",
    "#remove index , use default pandas index\n",
    "df1 = df1.drop('Unnamed: 0', axis = 1, errors='ignore')\n",
    "print(f'Duplicate rows = {df1.duplicated().sum()}')\n",
    "#Handling Missing cells\n",
    "print(\"################\")\n",
    "print(\"Missing data\")\n",
    "print(df1.isnull().sum())\n",
    "df1 = df1.dropna(subset = ['Assignee_email' ,'Reporter_email']).reset_index(drop=True)\n",
    "aggregateData = df1.groupby(['Assignee_email']).agg({'Issue Id': 'count'})\n",
    "employees = pd.DataFrame({'total_tasks': aggregateData['Issue Id']}).reset_index()\n",
    "\n",
    "employees.to_csv('employees.csv')\n",
    "#df1.to_csv('result/issues.csv')"
   ]
  }
 ],
 "metadata": {
  "kernelspec": {
   "display_name": "Python 3",
   "language": "python",
   "name": "python3"
  },
  "language_info": {
   "codemirror_mode": {
    "name": "ipython",
    "version": 3
   },
   "file_extension": ".py",
   "mimetype": "text/x-python",
   "name": "python",
   "nbconvert_exporter": "python",
   "pygments_lexer": "ipython3",
   "version": "3.8.8"
  }
 },
 "nbformat": 4,
 "nbformat_minor": 5
}
